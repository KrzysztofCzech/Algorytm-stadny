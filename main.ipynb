{
 "cells": [
  {
   "cell_type": "code",
   "execution_count": 6,
   "metadata": {},
   "outputs": [
    {
     "name": "stdout",
     "output_type": "stream",
     "text": [
      "cycle 0\n"
     ]
    },
    {
     "ename": "KeyboardInterrupt",
     "evalue": "",
     "output_type": "error",
     "traceback": [
      "\u001b[1;31m---------------------------------------------------------------------------\u001b[0m",
      "\u001b[1;31mKeyboardInterrupt\u001b[0m                         Traceback (most recent call last)",
      "\u001b[1;32mc:\\AlgEvloucyny\\Algorytm-stadny\\main.ipynb Cell 1'\u001b[0m in \u001b[0;36m<cell line: 48>\u001b[1;34m()\u001b[0m\n\u001b[0;32m     <a href='vscode-notebook-cell:/c%3A/AlgEvloucyny/Algorytm-stadny/main.ipynb#ch0000000?line=42'>43</a>\u001b[0m agent_single \u001b[39m=\u001b[39m Agent(Island2, name\u001b[39m=\u001b[39m \u001b[39mf\u001b[39m\u001b[39m\"\u001b[39m\u001b[39mAgent single\u001b[39m\u001b[39m\"\u001b[39m, attidute\u001b[39m=\u001b[39m AttiduteType(\u001b[39m1\u001b[39m))\n\u001b[0;32m     <a href='vscode-notebook-cell:/c%3A/AlgEvloucyny/Algorytm-stadny/main.ipynb#ch0000000?line=45'>46</a>\u001b[0m runner \u001b[39m=\u001b[39m MultiAgentRunner(agents\u001b[39m=\u001b[39m Agents, agent_single\u001b[39m=\u001b[39m agent_single)\n\u001b[1;32m---> <a href='vscode-notebook-cell:/c%3A/AlgEvloucyny/Algorytm-stadny/main.ipynb#ch0000000?line=47'>48</a>\u001b[0m runner\u001b[39m.\u001b[39;49mrun(cycles\u001b[39m=\u001b[39;49m\u001b[39m50\u001b[39;49m, cycle_iter\u001b[39m=\u001b[39;49m\u001b[39m400\u001b[39;49m, num_of_comm\u001b[39m=\u001b[39;49m\u001b[39m3\u001b[39;49m)\n",
      "File \u001b[1;32mc:\\AlgEvloucyny\\Algorytm-stadny\\Executor.py:35\u001b[0m, in \u001b[0;36mMultiAgentRunner.run\u001b[1;34m(self, cycles, num_of_comm, cycle_iter)\u001b[0m\n\u001b[0;32m     <a href='file:///c%3A/AlgEvloucyny/Algorytm-stadny/Executor.py?line=32'>33</a>\u001b[0m \u001b[39mfor\u001b[39;00m i \u001b[39min\u001b[39;00m \u001b[39mrange\u001b[39m(cycles):\n\u001b[0;32m     <a href='file:///c%3A/AlgEvloucyny/Algorytm-stadny/Executor.py?line=33'>34</a>\u001b[0m     \u001b[39mprint\u001b[39m(\u001b[39mf\u001b[39m\u001b[39m\"\u001b[39m\u001b[39mcycle \u001b[39m\u001b[39m{\u001b[39;00mi\u001b[39m}\u001b[39;00m\u001b[39m\"\u001b[39m)\n\u001b[1;32m---> <a href='file:///c%3A/AlgEvloucyny/Algorytm-stadny/Executor.py?line=34'>35</a>\u001b[0m     \u001b[39mself\u001b[39;49m\u001b[39m.\u001b[39;49mrun_cycle(cycle_iter)\n\u001b[0;32m     <a href='file:///c%3A/AlgEvloucyny/Algorytm-stadny/Executor.py?line=35'>36</a>\u001b[0m     \u001b[39mself\u001b[39m\u001b[39m.\u001b[39mcommunicate(num_of_comm)\n\u001b[0;32m     <a href='file:///c%3A/AlgEvloucyny/Algorytm-stadny/Executor.py?line=37'>38</a>\u001b[0m \u001b[39mprint\u001b[39m(\u001b[39m\"\u001b[39m\u001b[39mRunning comparison\u001b[39m\u001b[39m\"\u001b[39m)\n",
      "File \u001b[1;32mc:\\AlgEvloucyny\\Algorytm-stadny\\Executor.py:24\u001b[0m, in \u001b[0;36mMultiAgentRunner.run_cycle\u001b[1;34m(self, cycle_iterations)\u001b[0m\n\u001b[0;32m     <a href='file:///c%3A/AlgEvloucyny/Algorytm-stadny/Executor.py?line=21'>22</a>\u001b[0m \u001b[39mdef\u001b[39;00m \u001b[39mrun_cycle\u001b[39m(\u001b[39mself\u001b[39m, cycle_iterations : \u001b[39mint\u001b[39m) \u001b[39m-\u001b[39m\u001b[39m>\u001b[39m \u001b[39mNone\u001b[39;00m:\n\u001b[0;32m     <a href='file:///c%3A/AlgEvloucyny/Algorytm-stadny/Executor.py?line=22'>23</a>\u001b[0m     \u001b[39mfor\u001b[39;00m agent \u001b[39min\u001b[39;00m \u001b[39mself\u001b[39m\u001b[39m.\u001b[39m__agents:\n\u001b[1;32m---> <a href='file:///c%3A/AlgEvloucyny/Algorytm-stadny/Executor.py?line=23'>24</a>\u001b[0m         agent\u001b[39m.\u001b[39;49mrun(cycle_iterations)\n",
      "File \u001b[1;32mc:\\AlgEvloucyny\\Algorytm-stadny\\Agent.py:21\u001b[0m, in \u001b[0;36mAgent.run\u001b[1;34m(self, iterations)\u001b[0m\n\u001b[0;32m     <a href='file:///c%3A/AlgEvloucyny/Algorytm-stadny/Agent.py?line=19'>20</a>\u001b[0m \u001b[39mdef\u001b[39;00m \u001b[39mrun\u001b[39m(\u001b[39mself\u001b[39m, iterations):\n\u001b[1;32m---> <a href='file:///c%3A/AlgEvloucyny/Algorytm-stadny/Agent.py?line=20'>21</a>\u001b[0m     \u001b[39mself\u001b[39;49m\u001b[39m.\u001b[39;49mIsland\u001b[39m.\u001b[39;49mrun(iterations)\n",
      "File \u001b[1;32mc:\\AlgEvloucyny\\Algorytm-stadny\\Island.py:31\u001b[0m, in \u001b[0;36mIsland.run\u001b[1;34m(self, iterations)\u001b[0m\n\u001b[0;32m     <a href='file:///c%3A/AlgEvloucyny/Algorytm-stadny/Island.py?line=28'>29</a>\u001b[0m \u001b[39mdef\u001b[39;00m \u001b[39mrun\u001b[39m(\u001b[39mself\u001b[39m,iterations):\n\u001b[0;32m     <a href='file:///c%3A/AlgEvloucyny/Algorytm-stadny/Island.py?line=29'>30</a>\u001b[0m     \u001b[39mfor\u001b[39;00m i \u001b[39min\u001b[39;00m \u001b[39mrange\u001b[39m(\u001b[39m0\u001b[39m,iterations):\n\u001b[1;32m---> <a href='file:///c%3A/AlgEvloucyny/Algorytm-stadny/Island.py?line=30'>31</a>\u001b[0m         \u001b[39mself\u001b[39;49m\u001b[39m.\u001b[39;49malgorithm\u001b[39m.\u001b[39;49mstep()\n\u001b[0;32m     <a href='file:///c%3A/AlgEvloucyny/Algorytm-stadny/Island.py?line=31'>32</a>\u001b[0m         \u001b[39mself\u001b[39m\u001b[39m.\u001b[39malgorithm\u001b[39m.\u001b[39mupdate_progress()\n\u001b[0;32m     <a href='file:///c%3A/AlgEvloucyny/Algorytm-stadny/Island.py?line=32'>33</a>\u001b[0m         \u001b[39mself\u001b[39m\u001b[39m.\u001b[39mupdate_history()\n",
      "File \u001b[1;32m~\\AppData\\Local\\Programs\\Python\\Python310\\lib\\site-packages\\jmetal\\core\\algorithm.py:146\u001b[0m, in \u001b[0;36mEvolutionaryAlgorithm.step\u001b[1;34m(self)\u001b[0m\n\u001b[0;32m    <a href='file:///c%3A/Users/kczec/AppData/Local/Programs/Python/Python310/lib/site-packages/jmetal/core/algorithm.py?line=143'>144</a>\u001b[0m mating_population \u001b[39m=\u001b[39m \u001b[39mself\u001b[39m\u001b[39m.\u001b[39mselection(\u001b[39mself\u001b[39m\u001b[39m.\u001b[39msolutions)\n\u001b[0;32m    <a href='file:///c%3A/Users/kczec/AppData/Local/Programs/Python/Python310/lib/site-packages/jmetal/core/algorithm.py?line=144'>145</a>\u001b[0m offspring_population \u001b[39m=\u001b[39m \u001b[39mself\u001b[39m\u001b[39m.\u001b[39mreproduction(mating_population)\n\u001b[1;32m--> <a href='file:///c%3A/Users/kczec/AppData/Local/Programs/Python/Python310/lib/site-packages/jmetal/core/algorithm.py?line=145'>146</a>\u001b[0m offspring_population \u001b[39m=\u001b[39m \u001b[39mself\u001b[39;49m\u001b[39m.\u001b[39;49mevaluate(offspring_population)\n\u001b[0;32m    <a href='file:///c%3A/Users/kczec/AppData/Local/Programs/Python/Python310/lib/site-packages/jmetal/core/algorithm.py?line=147'>148</a>\u001b[0m \u001b[39mself\u001b[39m\u001b[39m.\u001b[39msolutions \u001b[39m=\u001b[39m \u001b[39mself\u001b[39m\u001b[39m.\u001b[39mreplacement(\u001b[39mself\u001b[39m\u001b[39m.\u001b[39msolutions, offspring_population)\n",
      "File \u001b[1;32mc:\\AlgEvloucyny\\Algorytm-stadny\\Evolutionary_algorithm.py:54\u001b[0m, in \u001b[0;36mEvolutionAlgoritm.evaluate\u001b[1;34m(self, solution_list)\u001b[0m\n\u001b[0;32m     <a href='file:///c%3A/AlgEvloucyny/Algorytm-stadny/Evolutionary_algorithm.py?line=52'>53</a>\u001b[0m \u001b[39mdef\u001b[39;00m \u001b[39mevaluate\u001b[39m(\u001b[39mself\u001b[39m, solution_list: List[S]):\n\u001b[1;32m---> <a href='file:///c%3A/AlgEvloucyny/Algorytm-stadny/Evolutionary_algorithm.py?line=53'>54</a>\u001b[0m     \u001b[39mreturn\u001b[39;00m \u001b[39mself\u001b[39;49m\u001b[39m.\u001b[39;49mpopulation_evaluator\u001b[39m.\u001b[39;49mevaluate(solution_list, \u001b[39mself\u001b[39;49m\u001b[39m.\u001b[39;49mproblem)\n",
      "File \u001b[1;32m~\\AppData\\Local\\Programs\\Python\\Python310\\lib\\site-packages\\jmetal\\util\\evaluator.py:36\u001b[0m, in \u001b[0;36mSequentialEvaluator.evaluate\u001b[1;34m(self, solution_list, problem)\u001b[0m\n\u001b[0;32m     <a href='file:///c%3A/Users/kczec/AppData/Local/Programs/Python/Python310/lib/site-packages/jmetal/util/evaluator.py?line=33'>34</a>\u001b[0m \u001b[39mdef\u001b[39;00m \u001b[39mevaluate\u001b[39m(\u001b[39mself\u001b[39m, solution_list: List[S], problem: Problem) \u001b[39m-\u001b[39m\u001b[39m>\u001b[39m List[S]:\n\u001b[0;32m     <a href='file:///c%3A/Users/kczec/AppData/Local/Programs/Python/Python310/lib/site-packages/jmetal/util/evaluator.py?line=34'>35</a>\u001b[0m     \u001b[39mfor\u001b[39;00m solution \u001b[39min\u001b[39;00m solution_list:\n\u001b[1;32m---> <a href='file:///c%3A/Users/kczec/AppData/Local/Programs/Python/Python310/lib/site-packages/jmetal/util/evaluator.py?line=35'>36</a>\u001b[0m         Evaluator\u001b[39m.\u001b[39;49mevaluate_solution(solution, problem)\n\u001b[0;32m     <a href='file:///c%3A/Users/kczec/AppData/Local/Programs/Python/Python310/lib/site-packages/jmetal/util/evaluator.py?line=37'>38</a>\u001b[0m     \u001b[39mreturn\u001b[39;00m solution_list\n",
      "File \u001b[1;32m~\\AppData\\Local\\Programs\\Python\\Python310\\lib\\site-packages\\jmetal\\util\\evaluator.py:29\u001b[0m, in \u001b[0;36mEvaluator.evaluate_solution\u001b[1;34m(solution, problem)\u001b[0m\n\u001b[0;32m     <a href='file:///c%3A/Users/kczec/AppData/Local/Programs/Python/Python310/lib/site-packages/jmetal/util/evaluator.py?line=26'>27</a>\u001b[0m \u001b[39m@staticmethod\u001b[39m\n\u001b[0;32m     <a href='file:///c%3A/Users/kczec/AppData/Local/Programs/Python/Python310/lib/site-packages/jmetal/util/evaluator.py?line=27'>28</a>\u001b[0m \u001b[39mdef\u001b[39;00m \u001b[39mevaluate_solution\u001b[39m(solution: S, problem: Problem) \u001b[39m-\u001b[39m\u001b[39m>\u001b[39m \u001b[39mNone\u001b[39;00m:\n\u001b[1;32m---> <a href='file:///c%3A/Users/kczec/AppData/Local/Programs/Python/Python310/lib/site-packages/jmetal/util/evaluator.py?line=28'>29</a>\u001b[0m     problem\u001b[39m.\u001b[39;49mevaluate(solution)\n",
      "File \u001b[1;32m~\\AppData\\Local\\Programs\\Python\\Python310\\lib\\site-packages\\jmetal\\problem\\singleobjective\\unconstrained.py:101\u001b[0m, in \u001b[0;36mRastrigin.evaluate\u001b[1;34m(self, solution)\u001b[0m\n\u001b[0;32m     <a href='file:///c%3A/Users/kczec/AppData/Local/Programs/Python/Python310/lib/site-packages/jmetal/problem/singleobjective/unconstrained.py?line=97'>98</a>\u001b[0m x \u001b[39m=\u001b[39m solution\u001b[39m.\u001b[39mvariables\n\u001b[0;32m    <a href='file:///c%3A/Users/kczec/AppData/Local/Programs/Python/Python310/lib/site-packages/jmetal/problem/singleobjective/unconstrained.py?line=99'>100</a>\u001b[0m \u001b[39mfor\u001b[39;00m i \u001b[39min\u001b[39;00m \u001b[39mrange\u001b[39m(solution\u001b[39m.\u001b[39mnumber_of_variables):\n\u001b[1;32m--> <a href='file:///c%3A/Users/kczec/AppData/Local/Programs/Python/Python310/lib/site-packages/jmetal/problem/singleobjective/unconstrained.py?line=100'>101</a>\u001b[0m     result \u001b[39m+\u001b[39m\u001b[39m=\u001b[39m x[i] \u001b[39m*\u001b[39m x[i] \u001b[39m-\u001b[39m a \u001b[39m*\u001b[39m math\u001b[39m.\u001b[39mcos(\u001b[39m2\u001b[39m \u001b[39m*\u001b[39m math\u001b[39m.\u001b[39mpi \u001b[39m*\u001b[39m x[i])\n\u001b[0;32m    <a href='file:///c%3A/Users/kczec/AppData/Local/Programs/Python/Python310/lib/site-packages/jmetal/problem/singleobjective/unconstrained.py?line=102'>103</a>\u001b[0m solution\u001b[39m.\u001b[39mobjectives[\u001b[39m0\u001b[39m] \u001b[39m=\u001b[39m result\n\u001b[0;32m    <a href='file:///c%3A/Users/kczec/AppData/Local/Programs/Python/Python310/lib/site-packages/jmetal/problem/singleobjective/unconstrained.py?line=104'>105</a>\u001b[0m \u001b[39mreturn\u001b[39;00m solution\n",
      "\u001b[1;31mKeyboardInterrupt\u001b[0m: "
     ]
    }
   ],
   "source": [
    "from Evolutionary_algorithm import EvolutionAlgoritm\n",
    "from jmetal.operator import SBXCrossover, PolynomialMutation, BinaryTournamentSelection\n",
    "from jmetal.problem.singleobjective.unconstrained import Rastrigin\n",
    "from jmetal.util.termination_criterion import StoppingByEvaluations\n",
    "from Island import Island\n",
    "from random import randint\n",
    "from Agent import Agent\n",
    "from Executor import MultiAgentRunner\n",
    "from communication import AttiduteType\n",
    "\n",
    "\n",
    "\n",
    "\n",
    "\n",
    "\n",
    "problem = Rastrigin(number_of_variables = 120)\n",
    "\n",
    "\n",
    "Agents =  []\n",
    "for i in range(0,9):\n",
    "    Island1 = Island(algorithm=EvolutionAlgoritm(\n",
    "    problem=problem, \n",
    "    population_size=50 -2*i,\n",
    "    offspring_population_size= 100 -8*i,\n",
    "    mutation=PolynomialMutation(probability=0.5 + 0.03*i / problem.number_of_variables, distribution_index=20 +i),\n",
    "    crossover= SBXCrossover(probability=0.04 * i + 0.01),\n",
    "    selection= BinaryTournamentSelection(),\n",
    "    termination_criterion=StoppingByEvaluations(max_evaluations=100000)))\n",
    "    Island1.start(i*20+ 2332)\n",
    "    Agents.append(Agent(Island1, name= f\"Agent{i}\", attidute= AttiduteType(i % 3)))\n",
    "\n",
    "i = 5\n",
    "\n",
    "Island2 = Island(algorithm=EvolutionAlgoritm(\n",
    "problem=problem, \n",
    "population_size=50 -5*i,\n",
    "offspring_population_size= 100 -8*i,\n",
    "mutation=PolynomialMutation(probability=0.5 + 0.01*i / problem.number_of_variables, distribution_index=20 +i),\n",
    "crossover= SBXCrossover(probability=0.01 * i + 0.01),\n",
    "selection= BinaryTournamentSelection(),\n",
    "termination_criterion=StoppingByEvaluations(max_evaluations=100000)))\n",
    "Island2.start(i*20+ 2332)\n",
    "agent_single = Agent(Island2, name= f\"Agent single\", attidute= AttiduteType(1))\n",
    "\n",
    "\n",
    "runner = MultiAgentRunner(agents= Agents, agent_single= agent_single)\n",
    "\n",
    "runner.run(cycles=150, cycle_iter=400, num_of_comm=3)\n",
    "    \n",
    "\n",
    "\n"
   ]
  }
 ],
 "metadata": {
  "interpreter": {
   "hash": "69449481974f8df4f5538ce6816fa4c67161008dd9bac3e22799c0f9086ff0ba"
  },
  "kernelspec": {
   "display_name": "Python 3.10.4 ('venv': venv)",
   "language": "python",
   "name": "python3"
  },
  "language_info": {
   "codemirror_mode": {
    "name": "ipython",
    "version": 3
   },
   "file_extension": ".py",
   "mimetype": "text/x-python",
   "name": "python",
   "nbconvert_exporter": "python",
   "pygments_lexer": "ipython3",
   "version": "3.10.4"
  },
  "orig_nbformat": 4
 },
 "nbformat": 4,
 "nbformat_minor": 2
}
