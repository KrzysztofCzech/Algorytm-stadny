{
 "cells": [
  {
   "cell_type": "code",
   "execution_count": 39,
   "metadata": {},
   "outputs": [
    {
     "name": "stdout",
     "output_type": "stream",
     "text": [
      "30\n"
     ]
    },
    {
     "ename": "AttributeError",
     "evalue": "'Island' object has no attribute 'get_history_soultion'",
     "output_type": "error",
     "traceback": [
      "\u001b[1;31m---------------------------------------------------------------------------\u001b[0m",
      "\u001b[1;31mAttributeError\u001b[0m                            Traceback (most recent call last)",
      "\u001b[1;32mc:\\PracProb\\islan_based_model\\main.ipynb Cell 1'\u001b[0m in \u001b[0;36m<cell line: 34>\u001b[1;34m()\u001b[0m\n\u001b[0;32m     <a href='vscode-notebook-cell:/c%3A/PracProb/islan_based_model/main.ipynb#ch0000000?line=28'>29</a>\u001b[0m Island2\u001b[39m.\u001b[39mrun(\u001b[39m50\u001b[39m)\n\u001b[0;32m     <a href='vscode-notebook-cell:/c%3A/PracProb/islan_based_model/main.ipynb#ch0000000?line=31'>32</a>\u001b[0m front \u001b[39m=\u001b[39m Island1\u001b[39m.\u001b[39malgorithm\u001b[39m.\u001b[39mget_result()\n\u001b[1;32m---> <a href='vscode-notebook-cell:/c%3A/PracProb/islan_based_model/main.ipynb#ch0000000?line=33'>34</a>\u001b[0m \u001b[39mprint\u001b[39m([Island1\u001b[39m.\u001b[39;49mget_history_soultion()])\n",
      "\u001b[1;31mAttributeError\u001b[0m: 'Island' object has no attribute 'get_history_soultion'"
     ]
    }
   ],
   "source": [
    "from jmetal.algorithm.singleobjective.evolution_strategy import EvolutionStrategy\n",
    "from jmetal.operator import SBXCrossover, PolynomialMutation\n",
    "from jmetal.problem.singleobjective.unconstrained import Rastrigin\n",
    "from jmetal.util.termination_criterion import StoppingByEvaluations\n",
    "from jmetal.util.solution import get_non_dominated_solutions, print_function_values_to_file, print_variables_to_file\n",
    "from Island import Island\n",
    "from random import randint\n",
    "problem = Rastrigin()\n",
    "\n",
    "\n",
    "algorithm = EvolutionStrategy(\n",
    "    problem=problem, \n",
    "    mu=30,\n",
    "    lambda_= 100,\n",
    "    elitist = True,\n",
    "    mutation=PolynomialMutation(probability=1.0 / problem.number_of_variables, distribution_index=20),\n",
    "    termination_criterion=StoppingByEvaluations(max_evaluations=100000)\n",
    ")\n",
    "\n",
    "Island1 = Island(algorithm=algorithm, migration_system=None)\n",
    "Island1.start(4)\n",
    "Island1.run(30)\n",
    "print(len(Island1.algorithm.solutions))\n",
    "\n",
    "Island1.run(50)\n",
    "\n",
    "Island2 = Island(algorithm=algorithm, migration_system=None)\n",
    "Island2.start(7)\n",
    "Island2.run(50)\n",
    "\n",
    "\n",
    "front = Island1.algorithm.get_result()\n",
    " \n",
    "print([Island1.get_history_soultion()])"
   ]
  },
  {
   "cell_type": "code",
   "execution_count": null,
   "metadata": {},
   "outputs": [
    {
     "name": "stderr",
     "output_type": "stream",
     "text": [
      "2022-05-11 23:38:46,743 [MainThread  ] [INFO ]  Output file (function values): FUN.NSGAII.1\n",
      "2022-05-11 23:38:46,745 [MainThread  ] [INFO ]  Output file (variables): VAR.NSGAII.1\n"
     ]
    },
    {
     "ename": "TypeError",
     "evalue": "'FloatSolution' object is not subscriptable",
     "output_type": "error",
     "traceback": [
      "\u001b[1;31m---------------------------------------------------------------------------\u001b[0m",
      "\u001b[1;31mTypeError\u001b[0m                                 Traceback (most recent call last)",
      "\u001b[1;32mc:\\PracProb\\islan_based_model\\main.ipynb Cell 2'\u001b[0m in \u001b[0;36m<cell line: 11>\u001b[1;34m()\u001b[0m\n\u001b[0;32m      <a href='vscode-notebook-cell:/c%3A/PracProb/islan_based_model/main.ipynb#ch0000001?line=7'>8</a>\u001b[0m \u001b[39mfrom\u001b[39;00m \u001b[39mjmetal\u001b[39;00m\u001b[39m.\u001b[39;00m\u001b[39mlab\u001b[39;00m\u001b[39m.\u001b[39;00m\u001b[39mvisualization\u001b[39;00m \u001b[39mimport\u001b[39;00m Plot\n\u001b[0;32m     <a href='vscode-notebook-cell:/c%3A/PracProb/islan_based_model/main.ipynb#ch0000001?line=9'>10</a>\u001b[0m plot_front \u001b[39m=\u001b[39m Plot(title\u001b[39m=\u001b[39m\u001b[39m'\u001b[39m\u001b[39mPareto front approximation\u001b[39m\u001b[39m'\u001b[39m, axis_labels\u001b[39m=\u001b[39m[\u001b[39m'\u001b[39m\u001b[39mx\u001b[39m\u001b[39m'\u001b[39m, \u001b[39m'\u001b[39m\u001b[39my\u001b[39m\u001b[39m'\u001b[39m])\n\u001b[1;32m---> <a href='vscode-notebook-cell:/c%3A/PracProb/islan_based_model/main.ipynb#ch0000001?line=10'>11</a>\u001b[0m plot_front\u001b[39m.\u001b[39;49mplot(front1, label\u001b[39m=\u001b[39;49m\u001b[39m'\u001b[39;49m\u001b[39mNSGAII-1\u001b[39;49m\u001b[39m'\u001b[39;49m, filename\u001b[39m=\u001b[39;49m\u001b[39m'\u001b[39;49m\u001b[39mNSGAII-1\u001b[39;49m\u001b[39m'\u001b[39;49m, \u001b[39mformat\u001b[39;49m\u001b[39m=\u001b[39;49m\u001b[39m'\u001b[39;49m\u001b[39mpng\u001b[39;49m\u001b[39m'\u001b[39;49m)\n",
      "File \u001b[1;32mc:\\PracProb\\venv\\lib\\site-packages\\jmetal\\lab\\visualization\\plotting.py:59\u001b[0m, in \u001b[0;36mPlot.plot\u001b[1;34m(self, front, label, normalize, filename, format)\u001b[0m\n\u001b[0;32m     <a href='file:///c%3A/PracProb/venv/lib/site-packages/jmetal/lab/visualization/plotting.py?line=49'>50</a>\u001b[0m \u001b[39mdef\u001b[39;00m \u001b[39mplot\u001b[39m(\u001b[39mself\u001b[39m, front, label\u001b[39m=\u001b[39m\u001b[39m'\u001b[39m\u001b[39m'\u001b[39m, normalize: \u001b[39mbool\u001b[39m \u001b[39m=\u001b[39m \u001b[39mFalse\u001b[39;00m, filename: \u001b[39mstr\u001b[39m \u001b[39m=\u001b[39m \u001b[39mNone\u001b[39;00m, \u001b[39mformat\u001b[39m: \u001b[39mstr\u001b[39m \u001b[39m=\u001b[39m \u001b[39m'\u001b[39m\u001b[39meps\u001b[39m\u001b[39m'\u001b[39m):\n\u001b[0;32m     <a href='file:///c%3A/PracProb/venv/lib/site-packages/jmetal/lab/visualization/plotting.py?line=50'>51</a>\u001b[0m     \u001b[39m\"\"\" Plot any arbitrary number of fronts in 2D, 3D or p-coords.\u001b[39;00m\n\u001b[0;32m     <a href='file:///c%3A/PracProb/venv/lib/site-packages/jmetal/lab/visualization/plotting.py?line=51'>52</a>\u001b[0m \n\u001b[0;32m     <a href='file:///c%3A/PracProb/venv/lib/site-packages/jmetal/lab/visualization/plotting.py?line=52'>53</a>\u001b[0m \u001b[39m    :param front: Pareto front or a list of them.\u001b[39;00m\n\u001b[1;32m   (...)\u001b[0m\n\u001b[0;32m     <a href='file:///c%3A/PracProb/venv/lib/site-packages/jmetal/lab/visualization/plotting.py?line=56'>57</a>\u001b[0m \u001b[39m    :param format: Output file format.\u001b[39;00m\n\u001b[0;32m     <a href='file:///c%3A/PracProb/venv/lib/site-packages/jmetal/lab/visualization/plotting.py?line=57'>58</a>\u001b[0m \u001b[39m    \"\"\"\u001b[39;00m\n\u001b[1;32m---> <a href='file:///c%3A/PracProb/venv/lib/site-packages/jmetal/lab/visualization/plotting.py?line=58'>59</a>\u001b[0m     \u001b[39mif\u001b[39;00m \u001b[39mnot\u001b[39;00m \u001b[39misinstance\u001b[39m(front[\u001b[39m0\u001b[39;49m], \u001b[39mlist\u001b[39m):\n\u001b[0;32m     <a href='file:///c%3A/PracProb/venv/lib/site-packages/jmetal/lab/visualization/plotting.py?line=59'>60</a>\u001b[0m         front \u001b[39m=\u001b[39m [front]\n\u001b[0;32m     <a href='file:///c%3A/PracProb/venv/lib/site-packages/jmetal/lab/visualization/plotting.py?line=61'>62</a>\u001b[0m     \u001b[39mif\u001b[39;00m \u001b[39mnot\u001b[39;00m \u001b[39misinstance\u001b[39m(label, \u001b[39mlist\u001b[39m):\n",
      "\u001b[1;31mTypeError\u001b[0m: 'FloatSolution' object is not subscriptable"
     ]
    }
   ],
   "source": [
    "Island1.run(50)\n",
    "\n",
    "front1 = Island1.algorithm.get_result()\n",
    "# save to files\n",
    "print_function_values_to_file(front1, 'FUN.NSGAII.1')\n",
    "print_variables_to_file(front1, 'VAR.NSGAII.1')\n",
    "\n",
    "from jmetal.lab.visualization import Plot\n",
    "\n",
    "plot_front = Plot(title='Pareto front approximation', axis_labels=['x', 'y'])\n",
    "plot_front.plot(front1, label='NSGAII-1', filename='NSGAII-1', format='png')"
   ]
  },
  {
   "cell_type": "code",
   "execution_count": null,
   "metadata": {},
   "outputs": [],
   "source": [
    "from Agent import Agent\n",
    "\n",
    "agent1 = Agent(Island1)\n",
    "\n",
    "agent1.run(10)"
   ]
  }
 ],
 "metadata": {
  "interpreter": {
   "hash": "69449481974f8df4f5538ce6816fa4c67161008dd9bac3e22799c0f9086ff0ba"
  },
  "kernelspec": {
   "display_name": "Python 3.10.4 ('venv': venv)",
   "language": "python",
   "name": "python3"
  },
  "language_info": {
   "codemirror_mode": {
    "name": "ipython",
    "version": 3
   },
   "file_extension": ".py",
   "mimetype": "text/x-python",
   "name": "python",
   "nbconvert_exporter": "python",
   "pygments_lexer": "ipython3",
   "version": "3.10.4"
  },
  "orig_nbformat": 4
 },
 "nbformat": 4,
 "nbformat_minor": 2
}
