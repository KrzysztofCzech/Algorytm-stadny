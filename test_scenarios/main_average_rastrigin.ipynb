{
 "cells": [
  {
   "cell_type": "code",
   "execution_count": 30,
   "metadata": {},
   "outputs": [
    {
     "ename": "ImportError",
     "evalue": "attempted relative import with no known parent package",
     "output_type": "error",
     "traceback": [
      "\u001b[1;31m---------------------------------------------------------------------------\u001b[0m",
      "\u001b[1;31mImportError\u001b[0m                               Traceback (most recent call last)",
      "\u001b[1;32mc:\\AlgEvloucyny\\Algorytm-stadny\\test_scenarios\\main_average_rastrigin.ipynb Cell 1'\u001b[0m in \u001b[0;36m<cell line: 4>\u001b[1;34m()\u001b[0m\n\u001b[0;32m      <a href='vscode-notebook-cell:/c%3A/AlgEvloucyny/Algorytm-stadny/test_scenarios/main_average_rastrigin.ipynb#ch0000000?line=1'>2</a>\u001b[0m \u001b[39mimport\u001b[39;00m \u001b[39mos\u001b[39;00m\n\u001b[0;32m      <a href='vscode-notebook-cell:/c%3A/AlgEvloucyny/Algorytm-stadny/test_scenarios/main_average_rastrigin.ipynb#ch0000000?line=2'>3</a>\u001b[0m \u001b[39mimport\u001b[39;00m \u001b[39msys\u001b[39;00m\n\u001b[1;32m----> <a href='vscode-notebook-cell:/c%3A/AlgEvloucyny/Algorytm-stadny/test_scenarios/main_average_rastrigin.ipynb#ch0000000?line=3'>4</a>\u001b[0m \u001b[39mfrom\u001b[39;00m \u001b[39m.\u001b[39;00m\u001b[39m.\u001b[39;00m \u001b[39mimport\u001b[39;00m src\n\u001b[0;32m      <a href='vscode-notebook-cell:/c%3A/AlgEvloucyny/Algorytm-stadny/test_scenarios/main_average_rastrigin.ipynb#ch0000000?line=4'>5</a>\u001b[0m sys\u001b[39m.\u001b[39mpath\u001b[39m.\u001b[39minsert(\u001b[39m0\u001b[39m, os\u001b[39m.\u001b[39mpath\u001b[39m.\u001b[39mabspath(os\u001b[39m.\u001b[39mpath\u001b[39m.\u001b[39mjoin(os\u001b[39m.\u001b[39mgetcwd(), \u001b[39m'\u001b[39m\u001b[39m..\u001b[39m\u001b[39m'\u001b[39m)))\n\u001b[0;32m      <a href='vscode-notebook-cell:/c%3A/AlgEvloucyny/Algorytm-stadny/test_scenarios/main_average_rastrigin.ipynb#ch0000000?line=5'>6</a>\u001b[0m \u001b[39mprint\u001b[39m(\u001b[39mdir\u001b[39m(src))\n",
      "\u001b[1;31mImportError\u001b[0m: attempted relative import with no known parent package"
     ]
    }
   ],
   "source": [
    "import logging\n",
    "import os\n",
    "import sys\n",
    "from .. import src\n",
    "sys.path.insert(0, os.path.abspath(os.path.join(os.getcwd(), '..')))\n",
    "print(dir(src))\n",
    "from src.inicialization.agents_inicialization import create_agents_float_solution\n",
    "from src.settings import Settings\n",
    "from src.runners.single import MultiAgentRunner\n",
    "from src.runners.statistic import StatisticRunner\n",
    "from time import time\n",
    "\n",
    "time1 =  time()\n",
    "with open(\"configs/config_avg.json\",\"r\") as f:\n",
    "    settings = Settings(f)\n",
    "\n",
    "logging.basicConfig(level=settings.log_level)\n",
    "logging.info(settings.json_settings)\n",
    "config = settings.decodeAgentsData()\n",
    "\n",
    "\n",
    "Agents, Agent_Reference = create_agents_float_solution(config)\n",
    "\n",
    "runner = MultiAgentRunner(agents= Agents, agent_single= Agent_Reference)\n",
    "\n",
    "\n",
    "\n",
    "Statistic_runner = StatisticRunner(runner)\n",
    "\n",
    "Statistic_runner.run_an_collect_data(no_runs = 10, cycles=20, cycle_iter=400, num_of_comm=2)\n",
    "if settings.enable_plots:\n",
    "    Statistic_runner.plot()\n",
    "\n"
   ]
  }
 ],
 "metadata": {
  "interpreter": {
   "hash": "69449481974f8df4f5538ce6816fa4c67161008dd9bac3e22799c0f9086ff0ba"
  },
  "kernelspec": {
   "display_name": "Python 3.10.4 ('venv': venv)",
   "language": "python",
   "name": "python3"
  },
  "language_info": {
   "codemirror_mode": {
    "name": "ipython",
    "version": 3
   },
   "file_extension": ".py",
   "mimetype": "text/x-python",
   "name": "python",
   "nbconvert_exporter": "python",
   "pygments_lexer": "ipython3",
   "version": "3.10.5"
  },
  "orig_nbformat": 4
 },
 "nbformat": 4,
 "nbformat_minor": 2
}
