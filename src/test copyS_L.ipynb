{
 "cells": [
  {
   "cell_type": "code",
   "execution_count": 1,
   "metadata": {},
   "outputs": [
    {
     "name": "stderr",
     "output_type": "stream",
     "text": [
      "INFO:root:{'LOG_LEVEL': 'INFO', 'number_of_agents': 10, 'problem': 'ExpandedShaffer', 'problem_size': 60, 'communication_type': 'crossover', 'communication_operator': 'swap', 'max_time': 800, 'enable_plots': True, 'trust': 'global', 'population size': 5, 'offspring size': 15}\n",
      "INFO:root:Socjo started\n",
      "Progress:   1%|1         | 21695/1800000 [00:26<35:57, 824.18it/s]"
     ]
    }
   ],
   "source": [
    "import logging\n",
    "\n",
    "from inicialization.agents_inicialization import create_agents_float_solution\n",
    "from settings import Settings\n",
    "from runners.single import MultiAgentRunner\n",
    "from runners.statistic import StatisticRunner \n",
    "from time import time\n",
    "NUM_OF_COMM =1\n",
    "time1 =  time()\n",
    "Statistic_runner_list = []\n",
    "for idx, config in enumerate([\"config_S.json\",\"config_L.json\"]):#, \"config_A.json\"]):\n",
    "    with open(config,\"r\") as f:\n",
    "        settings = Settings(f)\n",
    "        # logging.basicConfig(level=settings.log_level)\n",
    "    logging.basicConfig(level=logging.INFO)\n",
    "    logging.info(settings.json_settings)\n",
    "    config = settings.decodeAgentsData()\n",
    "    iterations = config.problem.number_of_variables**2 *100 \n",
    "    Agents, Agent_Reference = create_agents_float_solution(config)     \n",
    "    runner = MultiAgentRunner(agents= Agents, agent_single= Agent_Reference, max_iterations=iterations)\n",
    "    Statistic_runner_list.append(StatisticRunner(runner))\n",
    "    Statistic_runner_list[idx].run_an_collect_data(no_runs = 2, cycles=int(iterations/10/config.noAgents) , cycle_iter=10, num_of_comm=NUM_OF_COMM)\n",
    "    if settings.enable_plots:\n",
    "        Statistic_runner_list[idx].plot()\n",
    "    #Statistic_runner_list[idx].save_progres(config = config, num_of_comm  =NUM_OF_COMM )"
   ]
  },
  {
   "cell_type": "code",
   "execution_count": null,
   "metadata": {},
   "outputs": [],
   "source": [
    "for el in Statistic_runner_list:   \n",
    "    for i in range (0, len(el.Executor.comunication_history)//1000):\n",
    "\n",
    "        lista1 = list(filter(lambda hist: hist.result == True, el.Executor.comunication_history[i*1000:(i+1)*1000]))\n",
    "        lista2 = list(filter(lambda hist: hist.result == False, el.Executor.comunication_history[i*1000:(i+1)*1000]))\n",
    "        print(f\"{i*1000} - {(i+1)*1000} nr komunikacji pozytywna {lista1.__len__()} negatyna {lista2.__len__()}\")\n"
   ]
  }
 ],
 "metadata": {
  "kernelspec": {
   "display_name": "Python 3",
   "language": "python",
   "name": "python3"
  },
  "language_info": {
   "codemirror_mode": {
    "name": "ipython",
    "version": 3
   },
   "file_extension": ".py",
   "mimetype": "text/x-python",
   "name": "python",
   "nbconvert_exporter": "python",
   "pygments_lexer": "ipython3",
   "version": "3.11.0"
  },
  "orig_nbformat": 4,
  "vscode": {
   "interpreter": {
    "hash": "d1edc6cd34ac93473680250074b6a6c76ca03c02df31c3c0caa07c58bc5e9096"
   }
  }
 },
 "nbformat": 4,
 "nbformat_minor": 2
}
