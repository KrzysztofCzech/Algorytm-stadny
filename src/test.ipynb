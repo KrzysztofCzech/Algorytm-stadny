{
 "cells": [
  {
   "cell_type": "code",
   "execution_count": 1,
   "metadata": {},
   "outputs": [
    {
     "name": "stderr",
     "output_type": "stream",
     "text": [
      "INFO:root:{'LOG_LEVEL': 'INFO', 'number_of_agents': 5, 'problem': 'Rastrigin', 'problem_size': 100, 'communication_type': 'temp2', 'communication_operator': 'average', 'max_time': 800, 'enable_plots': True, 'trust': 'global', 'population size': 5, 'offspring size': 15}\n",
      "INFO:root:Socjo started\n",
      "Progress:  12%|#1        | 47255/400000 [00:23<02:54, 2019.80it/s]"
     ]
    }
   ],
   "source": [
    "import logging\n",
    "\n",
    "from inicialization.agents_inicialization import create_agents_float_solution\n",
    "from settings import Settings\n",
    "from runners.single import MultiAgentRunner\n",
    "from runners.statistic import StatisticRunner\n",
    "from time import time\n",
    "\n",
    "time1 =  time()\n",
    "\n",
    "for idx, config in enumerate([\"config_R.json\",\"config_G.json\", \"config_A.json\"]):\n",
    "    with open(config,\"r\") as f:\n",
    "        settings = Settings(f)\n",
    "        # logging.basicConfig(level=settings.log_level)\n",
    "    logging.basicConfig(level=logging.INFO)\n",
    "    logging.info(settings.json_settings)\n",
    "    config = settings.decodeAgentsData()\n",
    "    iterations = config.problem.number_of_variables * 400 * (8-(idx*2)) \n",
    "    Agents, Agent_Reference = create_agents_float_solution(config)     \n",
    "    runner = MultiAgentRunner(agents= Agents, agent_single= Agent_Reference, max_iterations=iterations)\n",
    "    Statistic_runner = StatisticRunner(runner)\n",
    "    Statistic_runner.run_an_collect_data(no_runs = 3, cycles=int(iterations/50/config.noAgents) , cycle_iter=50, num_of_comm=2)\n",
    "    if settings.enable_plots:\n",
    "        Statistic_runner.plot()"
   ]
  },
  {
   "cell_type": "code",
   "execution_count": null,
   "metadata": {},
   "outputs": [],
   "source": []
  }
 ],
 "metadata": {
  "kernelspec": {
   "display_name": "Python 3",
   "language": "python",
   "name": "python3"
  },
  "language_info": {
   "codemirror_mode": {
    "name": "ipython",
    "version": 3
   },
   "file_extension": ".py",
   "mimetype": "text/x-python",
   "name": "python",
   "nbconvert_exporter": "python",
   "pygments_lexer": "ipython3",
   "version": "3.11.0"
  },
  "orig_nbformat": 4,
  "vscode": {
   "interpreter": {
    "hash": "d1edc6cd34ac93473680250074b6a6c76ca03c02df31c3c0caa07c58bc5e9096"
   }
  }
 },
 "nbformat": 4,
 "nbformat_minor": 2
}
