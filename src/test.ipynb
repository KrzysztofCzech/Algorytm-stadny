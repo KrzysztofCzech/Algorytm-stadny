{
 "cells": [
  {
   "cell_type": "code",
   "execution_count": 3,
   "metadata": {},
   "outputs": [
    {
     "ename": "KeyError",
     "evalue": "'population size'",
     "output_type": "error",
     "traceback": [
      "\u001b[1;31m---------------------------------------------------------------------------\u001b[0m",
      "\u001b[1;31mKeyError\u001b[0m                                  Traceback (most recent call last)",
      "Cell \u001b[1;32mIn[3], line 11\u001b[0m\n\u001b[0;32m      9\u001b[0m time1 \u001b[39m=\u001b[39m  time()\n\u001b[0;32m     10\u001b[0m \u001b[39mwith\u001b[39;00m \u001b[39mopen\u001b[39m(\u001b[39m\"\u001b[39m\u001b[39mconfig.json\u001b[39m\u001b[39m\"\u001b[39m,\u001b[39m\"\u001b[39m\u001b[39mr\u001b[39m\u001b[39m\"\u001b[39m) \u001b[39mas\u001b[39;00m f:\n\u001b[1;32m---> 11\u001b[0m     settings \u001b[39m=\u001b[39m Settings(f)\n\u001b[0;32m     13\u001b[0m \u001b[39m# logging.basicConfig(level=settings.log_level)\u001b[39;00m\n\u001b[0;32m     14\u001b[0m logging\u001b[39m.\u001b[39mbasicConfig(level\u001b[39m=\u001b[39mlogging\u001b[39m.\u001b[39mINFO)\n",
      "File \u001b[1;32mc:\\mgr\\Algorytm-stadny\\src\\settings.py:22\u001b[0m, in \u001b[0;36mSettings.__init__\u001b[1;34m(self, json_settings)\u001b[0m\n\u001b[0;32m     20\u001b[0m \u001b[39mdef\u001b[39;00m \u001b[39m__init__\u001b[39m(\u001b[39mself\u001b[39m, json_settings):\n\u001b[0;32m     21\u001b[0m     \u001b[39mself\u001b[39m\u001b[39m.\u001b[39mjson_settings\u001b[39m=\u001b[39m json\u001b[39m.\u001b[39mload(json_settings)\n\u001b[1;32m---> 22\u001b[0m     \u001b[39mself\u001b[39;49m\u001b[39m.\u001b[39;49mdecodeJson()\n",
      "File \u001b[1;32mc:\\mgr\\Algorytm-stadny\\src\\settings.py:27\u001b[0m, in \u001b[0;36mSettings.decodeJson\u001b[1;34m(self)\u001b[0m\n\u001b[0;32m     25\u001b[0m \u001b[39mself\u001b[39m\u001b[39m.\u001b[39mlog_level \u001b[39m=\u001b[39m \u001b[39mself\u001b[39m\u001b[39m.\u001b[39mdecodeLogLevel()\n\u001b[0;32m     26\u001b[0m \u001b[39mself\u001b[39m\u001b[39m.\u001b[39mmaxtime \u001b[39m=\u001b[39m \u001b[39mself\u001b[39m\u001b[39m.\u001b[39mjson_settings[\u001b[39m\"\u001b[39m\u001b[39mmax_time\u001b[39m\u001b[39m\"\u001b[39m]\n\u001b[1;32m---> 27\u001b[0m \u001b[39mself\u001b[39m\u001b[39m.\u001b[39magents_data \u001b[39m=\u001b[39m \u001b[39mself\u001b[39;49m\u001b[39m.\u001b[39;49mdecodeAgentsData()\n\u001b[0;32m     28\u001b[0m \u001b[39mself\u001b[39m\u001b[39m.\u001b[39menable_plots \u001b[39m=\u001b[39m \u001b[39mself\u001b[39m\u001b[39m.\u001b[39mjson_settings[\u001b[39m\"\u001b[39m\u001b[39menable_plots\u001b[39m\u001b[39m\"\u001b[39m]\n",
      "File \u001b[1;32mc:\\mgr\\Algorytm-stadny\\src\\settings.py:38\u001b[0m, in \u001b[0;36mSettings.decodeAgentsData\u001b[1;34m(self)\u001b[0m\n\u001b[0;32m     36\u001b[0m communication \u001b[39m=\u001b[39m decode_communication(\u001b[39mself\u001b[39m\u001b[39m.\u001b[39mjson_settings[\u001b[39m\"\u001b[39m\u001b[39mcommunication_type\u001b[39m\u001b[39m\"\u001b[39m], \u001b[39mself\u001b[39m\u001b[39m.\u001b[39mjson_settings[\u001b[39m\"\u001b[39m\u001b[39mcommunication_operator\u001b[39m\u001b[39m\"\u001b[39m])\n\u001b[0;32m     37\u001b[0m trust_type \u001b[39m=\u001b[39m  decode_trust(\u001b[39mself\u001b[39m\u001b[39m.\u001b[39mjson_settings[\u001b[39m\"\u001b[39m\u001b[39mtrust\u001b[39m\u001b[39m\"\u001b[39m])\n\u001b[1;32m---> 38\u001b[0m population_size \u001b[39m=\u001b[39m \u001b[39mself\u001b[39;49m\u001b[39m.\u001b[39;49mjson_settings[\u001b[39m\"\u001b[39;49m\u001b[39mpopulation size\u001b[39;49m\u001b[39m\"\u001b[39;49m]\n\u001b[0;32m     39\u001b[0m offspring_size \u001b[39m=\u001b[39m \u001b[39mself\u001b[39m\u001b[39m.\u001b[39mjson_settings[\u001b[39m\"\u001b[39m\u001b[39moffspring_size\u001b[39m\u001b[39m\"\u001b[39m]\n\u001b[0;32m     40\u001b[0m \u001b[39mreturn\u001b[39;00m ConfigData(noAgents, problem, communication, trust_type , population_size, offspring_size)\n",
      "\u001b[1;31mKeyError\u001b[0m: 'population size'"
     ]
    }
   ],
   "source": [
    "import logging\n",
    "\n",
    "from inicialization.agents_inicialization import create_agents_float_solution\n",
    "from settings import Settings\n",
    "from runners.single import MultiAgentRunner\n",
    "from runners.statistic import StatisticRunner\n",
    "from time import time\n",
    "\n",
    "time1 =  time()\n",
    "with open(\"config.json\",\"r\") as f:\n",
    "    settings = Settings(f)\n",
    "\n",
    "# logging.basicConfig(level=settings.log_level)\n",
    "logging.basicConfig(level=logging.INFO)\n",
    "logging.info(settings.json_settings)\n",
    "config = settings.decodeAgentsData()\n",
    "\n",
    "\n",
    "Agents, Agent_Reference = create_agents_float_solution(config)\n",
    "Agents[0].get_trust_memory().starting_trust = 8\n",
    "runner = MultiAgentRunner(agents= Agents, agent_single= Agent_Reference)\n",
    "\n",
    "\n",
    "\n",
    "Statistic_runner = StatisticRunner(runner)\n",
    " \n",
    "\n",
    "\n",
    "Statistic_runner.run_an_collect_data(no_runs = 8, cycles=250 , cycle_iter=50, num_of_comm=3)\n",
    "if settings.enable_plots:\n",
    "    Statistic_runner.plot()\n",
    "\n"
   ]
  },
  {
   "cell_type": "code",
   "execution_count": null,
   "metadata": {},
   "outputs": [],
   "source": [
    "\n",
    "\n",
    "time1 =  time()\n",
    "with open(\"config.json\",\"r\") as f:\n",
    "    settings = Settings(f)\n",
    "\n",
    "# logging.basicConfig(level=settings.log_level)\n",
    "logging.basicConfig(level=logging.INFO)\n",
    "logging.info(settings.json_settings)\n",
    "config = settings.decodeAgentsData()\n",
    "config.noAgents = 5\n",
    "\n",
    "Agents, Agent_Reference = create_agents_float_solution(config)\n",
    "Agents[0].get_trust_memory().starting_trust = 8\n",
    "runner = MultiAgentRunner(agents= Agents, agent_single= Agent_Reference)\n",
    "\n",
    "\n",
    "\n",
    "Statistic_runner = StatisticRunner(runner)\n",
    " \n",
    "\n",
    "\n",
    "Statistic_runner.run_an_collect_data(no_runs = 8, cycles=300 , cycle_iter=50, num_of_comm=2)\n",
    "if settings.enable_plots:\n",
    "    Statistic_runner.plot()\n"
   ]
  },
  {
   "cell_type": "code",
   "execution_count": null,
   "metadata": {},
   "outputs": [],
   "source": [
    "\n",
    "time1 =  time()\n",
    "with open(\"config.json\",\"r\") as f:\n",
    "    settings = Settings(f)\n",
    "\n",
    "# logging.basicConfig(level=settings.log_level)\n",
    "logging.basicConfig(level=logging.INFO)\n",
    "logging.info(settings.json_settings)\n",
    "config = settings.decodeAgentsData()\n",
    "config.noAgents = 3\n",
    "\n",
    "Agents, Agent_Reference = create_agents_float_solution(config)\n",
    "Agents[0].get_trust_memory().starting_trust = 8\n",
    "runner = MultiAgentRunner(agents= Agents, agent_single= Agent_Reference)\n",
    "\n",
    "\n",
    "\n",
    "Statistic_runner = StatisticRunner(runner)\n",
    " \n",
    "\n",
    "\n",
    "Statistic_runner.run_an_collect_data(no_runs = 8, cycles=350 , cycle_iter=50, num_of_comm=1)\n",
    "if settings.enable_plots:\n",
    "    Statistic_runner.plot()\n"
   ]
  },
  {
   "cell_type": "code",
   "execution_count": null,
   "metadata": {},
   "outputs": [],
   "source": [
    "\n",
    "time1 =  time()\n",
    "with open(\"config.json\",\"r\") as f:\n",
    "    settings = Settings(f)\n",
    "\n",
    "# logging.basicConfig(level=settings.log_level)\n",
    "logging.basicConfig(level=logging.INFO)\n",
    "logging.info(settings.json_settings)\n",
    "config = settings.decodeAgentsData()\n",
    "config.noAgents = 2\n",
    "\n",
    "Agents, Agent_Reference = create_agents_float_solution(config)\n",
    "Agents[0].get_trust_memory().starting_trust = 8\n",
    "runner = MultiAgentRunner(agents= Agents, agent_single= Agent_Reference)\n",
    "\n",
    "\n",
    "\n",
    "Statistic_runner = StatisticRunner(runner)\n",
    " \n",
    "\n",
    "\n",
    "Statistic_runner.run_an_collect_data(no_runs = 8, cycles=500 , cycle_iter=50, num_of_comm=1)\n",
    "if settings.enable_plots:\n",
    "    Statistic_runner.plot()\n"
   ]
  },
  {
   "cell_type": "code",
   "execution_count": null,
   "metadata": {},
   "outputs": [],
   "source": [
    "time1 =  time()\n",
    "with open(\"config.json\",\"r\") as f:\n",
    "    settings = Settings(f)\n",
    "\n",
    "# logging.basicConfig(level=settings.log_level)\n",
    "logging.basicConfig(level=logging.INFO)\n",
    "logging.info(settings.json_settings)\n",
    "config = settings.decodeAgentsData()\n",
    "config.noAgents = 10\n",
    "\n",
    "Agents, Agent_Reference = create_agents_float_solution(config)\n",
    "Agents[0].get_trust_memory().starting_trust = 8\n",
    "runner = MultiAgentRunner(agents= Agents, agent_single= Agent_Reference)\n",
    "\n",
    "\n",
    "\n",
    "Statistic_runner = StatisticRunner(runner)\n",
    " \n",
    "\n",
    "\n",
    "Statistic_runner.run_an_collect_data(no_runs = 8, cycles=150 , cycle_iter=30, num_of_comm=5)\n",
    "if settings.enable_plots:\n",
    "    Statistic_runner.plot()\n"
   ]
  }
 ],
 "metadata": {
  "kernelspec": {
   "display_name": "Python 3.11.0 64-bit",
   "language": "python",
   "name": "python3"
  },
  "language_info": {
   "codemirror_mode": {
    "name": "ipython",
    "version": 3
   },
   "file_extension": ".py",
   "mimetype": "text/x-python",
   "name": "python",
   "nbconvert_exporter": "python",
   "pygments_lexer": "ipython3",
   "version": "3.11.0"
  },
  "orig_nbformat": 4,
  "vscode": {
   "interpreter": {
    "hash": "d1edc6cd34ac93473680250074b6a6c76ca03c02df31c3c0caa07c58bc5e9096"
   }
  }
 },
 "nbformat": 4,
 "nbformat_minor": 2
}
