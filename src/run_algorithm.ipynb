{
 "cells": [
  {
   "cell_type": "code",
   "execution_count": 1,
   "metadata": {},
   "outputs": [
    {
     "ename": "KeyError",
     "evalue": "'   '",
     "output_type": "error",
     "traceback": [
      "\u001b[1;31m---------------------------------------------------------------------------\u001b[0m",
      "\u001b[1;31mKeyError\u001b[0m                                  Traceback (most recent call last)",
      "Cell \u001b[1;32mIn[1], line 21\u001b[0m\n\u001b[0;32m     19\u001b[0m     settings[\u001b[38;5;124m\"\u001b[39m\u001b[38;5;124mproblem\u001b[39m\u001b[38;5;124m\"\u001b[39m] \u001b[38;5;241m=\u001b[39m problem\n\u001b[0;32m     20\u001b[0m     settings[\u001b[38;5;124m\"\u001b[39m\u001b[38;5;124mproblem_size\u001b[39m\u001b[38;5;124m\"\u001b[39m] \u001b[38;5;241m=\u001b[39m problem_size\n\u001b[1;32m---> 21\u001b[0m     settings \u001b[38;5;241m=\u001b[39m \u001b[43mSettings\u001b[49m\u001b[43m(\u001b[49m\u001b[43msettings\u001b[49m\u001b[43m)\u001b[49m\n\u001b[0;32m     22\u001b[0m logging\u001b[38;5;241m.\u001b[39mbasicConfig(level\u001b[38;5;241m=\u001b[39mlogging\u001b[38;5;241m.\u001b[39mINFO)  \n\u001b[0;32m     24\u001b[0m config \u001b[38;5;241m=\u001b[39m settings\u001b[38;5;241m.\u001b[39mdecodeAgentsData()\n",
      "File \u001b[1;32mc:\\mgr\\mgrV2\\Algorytm-stadny\\src\\settings\\settings.py:41\u001b[0m, in \u001b[0;36mSettings.__init__\u001b[1;34m(self, json_settings)\u001b[0m\n\u001b[0;32m     39\u001b[0m \u001b[38;5;28mself\u001b[39m\u001b[38;5;241m.\u001b[39mlog_level \u001b[38;5;241m=\u001b[39m \u001b[38;5;28;01mNone\u001b[39;00m\n\u001b[0;32m     40\u001b[0m \u001b[38;5;28mself\u001b[39m\u001b[38;5;241m.\u001b[39mjson_settings \u001b[38;5;241m=\u001b[39m json_settings\n\u001b[1;32m---> 41\u001b[0m \u001b[38;5;28;43mself\u001b[39;49m\u001b[38;5;241;43m.\u001b[39;49m\u001b[43mdecodeJson\u001b[49m\u001b[43m(\u001b[49m\u001b[43m)\u001b[49m\n",
      "File \u001b[1;32mc:\\mgr\\mgrV2\\Algorytm-stadny\\src\\settings\\settings.py:46\u001b[0m, in \u001b[0;36mSettings.decodeJson\u001b[1;34m(self)\u001b[0m\n\u001b[0;32m     44\u001b[0m \u001b[38;5;28mself\u001b[39m\u001b[38;5;241m.\u001b[39mlog_level \u001b[38;5;241m=\u001b[39m decodeLogLevel()\n\u001b[0;32m     45\u001b[0m \u001b[38;5;28mself\u001b[39m\u001b[38;5;241m.\u001b[39mmax_time \u001b[38;5;241m=\u001b[39m \u001b[38;5;28mself\u001b[39m\u001b[38;5;241m.\u001b[39mjson_settings[\u001b[38;5;124m\"\u001b[39m\u001b[38;5;124mmax_time\u001b[39m\u001b[38;5;124m\"\u001b[39m]\n\u001b[1;32m---> 46\u001b[0m \u001b[38;5;28mself\u001b[39m\u001b[38;5;241m.\u001b[39magents_data \u001b[38;5;241m=\u001b[39m \u001b[38;5;28;43mself\u001b[39;49m\u001b[38;5;241;43m.\u001b[39;49m\u001b[43mdecodeAgentsData\u001b[49m\u001b[43m(\u001b[49m\u001b[43m)\u001b[49m\n\u001b[0;32m     47\u001b[0m \u001b[38;5;28mself\u001b[39m\u001b[38;5;241m.\u001b[39menable_plots \u001b[38;5;241m=\u001b[39m \u001b[38;5;28mself\u001b[39m\u001b[38;5;241m.\u001b[39mjson_settings[\u001b[38;5;124m\"\u001b[39m\u001b[38;5;124menable_plots\u001b[39m\u001b[38;5;124m\"\u001b[39m]\n",
      "File \u001b[1;32mc:\\mgr\\mgrV2\\Algorytm-stadny\\src\\settings\\settings.py:52\u001b[0m, in \u001b[0;36mSettings.decodeAgentsData\u001b[1;34m(self)\u001b[0m\n\u001b[0;32m     50\u001b[0m \u001b[38;5;28;01mdef\u001b[39;00m \u001b[38;5;21mdecodeAgentsData\u001b[39m(\u001b[38;5;28mself\u001b[39m):\n\u001b[0;32m     51\u001b[0m     noAgents \u001b[38;5;241m=\u001b[39m \u001b[38;5;28mself\u001b[39m\u001b[38;5;241m.\u001b[39mjson_settings[\u001b[38;5;124m\"\u001b[39m\u001b[38;5;124mnumber_of_agents\u001b[39m\u001b[38;5;124m\"\u001b[39m]\n\u001b[1;32m---> 52\u001b[0m     problem \u001b[38;5;241m=\u001b[39m \u001b[43mdecode_problem\u001b[49m\u001b[43m(\u001b[49m\u001b[38;5;28;43mself\u001b[39;49m\u001b[38;5;241;43m.\u001b[39;49m\u001b[43mjson_settings\u001b[49m\u001b[43m[\u001b[49m\u001b[38;5;124;43m\"\u001b[39;49m\u001b[38;5;124;43mproblem\u001b[39;49m\u001b[38;5;124;43m\"\u001b[39;49m\u001b[43m]\u001b[49m\u001b[43m,\u001b[49m\u001b[43m \u001b[49m\u001b[38;5;28;43mself\u001b[39;49m\u001b[38;5;241;43m.\u001b[39;49m\u001b[43mjson_settings\u001b[49m\u001b[43m[\u001b[49m\u001b[38;5;124;43m\"\u001b[39;49m\u001b[38;5;124;43mproblem_size\u001b[39;49m\u001b[38;5;124;43m\"\u001b[39;49m\u001b[43m]\u001b[49m\u001b[43m)\u001b[49m\n\u001b[0;32m     53\u001b[0m     communication \u001b[38;5;241m=\u001b[39m decode_communication(\u001b[38;5;28mself\u001b[39m\u001b[38;5;241m.\u001b[39mjson_settings[\u001b[38;5;124m\"\u001b[39m\u001b[38;5;124mcommunication_type\u001b[39m\u001b[38;5;124m\"\u001b[39m],\n\u001b[0;32m     54\u001b[0m                                          \u001b[38;5;28mself\u001b[39m\u001b[38;5;241m.\u001b[39mjson_settings[\u001b[38;5;124m\"\u001b[39m\u001b[38;5;124mcommunication_operator\u001b[39m\u001b[38;5;124m\"\u001b[39m])\n\u001b[0;32m     55\u001b[0m     trust_type \u001b[38;5;241m=\u001b[39m decode_trust(\u001b[38;5;28mself\u001b[39m\u001b[38;5;241m.\u001b[39mjson_settings[trustMembers\u001b[38;5;241m.\u001b[39mTRUST])\n",
      "File \u001b[1;32mc:\\mgr\\mgrV2\\Algorytm-stadny\\src\\settings\\decoder.py:15\u001b[0m, in \u001b[0;36mdecode_problem\u001b[1;34m(problem_name, problem_size)\u001b[0m\n\u001b[0;32m     14\u001b[0m \u001b[38;5;28;01mdef\u001b[39;00m \u001b[38;5;21mdecode_problem\u001b[39m(problem_name, problem_size):\n\u001b[1;32m---> 15\u001b[0m     \u001b[38;5;28;01mreturn\u001b[39;00m \u001b[43m{\u001b[49m\u001b[38;5;124;43m\"\u001b[39;49m\u001b[38;5;124;43mRastrigin\u001b[39;49m\u001b[38;5;124;43m\"\u001b[39;49m\u001b[43m:\u001b[49m\u001b[43m \u001b[49m\u001b[43mRastrigin\u001b[49m\u001b[43m(\u001b[49m\u001b[43mproblem_size\u001b[49m\u001b[43m)\u001b[49m\u001b[43m,\u001b[49m\n\u001b[0;32m     16\u001b[0m \u001b[43m            \u001b[49m\u001b[38;5;124;43m\"\u001b[39;49m\u001b[38;5;124;43mGriewank\u001b[39;49m\u001b[38;5;124;43m\"\u001b[39;49m\u001b[43m:\u001b[49m\u001b[43m \u001b[49m\u001b[43mGriewank\u001b[49m\u001b[43m(\u001b[49m\u001b[43mproblem_size\u001b[49m\u001b[43m)\u001b[49m\u001b[43m,\u001b[49m\n\u001b[0;32m     17\u001b[0m \u001b[43m            \u001b[49m\u001b[38;5;124;43m\"\u001b[39;49m\u001b[38;5;124;43mAckley\u001b[39;49m\u001b[38;5;124;43m\"\u001b[39;49m\u001b[43m:\u001b[49m\u001b[43m \u001b[49m\u001b[43mAckley\u001b[49m\u001b[43m(\u001b[49m\u001b[43mproblem_size\u001b[49m\u001b[43m)\u001b[49m\u001b[43m,\u001b[49m\n\u001b[0;32m     18\u001b[0m \u001b[43m            \u001b[49m\u001b[38;5;124;43m\"\u001b[39;49m\u001b[38;5;124;43mEnergyCluster\u001b[39;49m\u001b[38;5;124;43m\"\u001b[39;49m\u001b[43m:\u001b[49m\u001b[43m \u001b[49m\u001b[43mLenardJohnesMinimumEnergyCluster\u001b[49m\u001b[43m(\u001b[49m\u001b[43mproblem_size\u001b[49m\u001b[43m)\u001b[49m\u001b[43m,\u001b[49m\n\u001b[0;32m     19\u001b[0m \u001b[43m            \u001b[49m\u001b[38;5;124;43m\"\u001b[39;49m\u001b[38;5;124;43mBentCigar\u001b[39;49m\u001b[38;5;124;43m\"\u001b[39;49m\u001b[43m:\u001b[49m\u001b[43m \u001b[49m\u001b[43mBentCigar\u001b[49m\u001b[43m(\u001b[49m\u001b[43mproblem_size\u001b[49m\u001b[43m)\u001b[49m\u001b[43m,\u001b[49m\n\u001b[0;32m     20\u001b[0m \u001b[43m            \u001b[49m\u001b[38;5;124;43m\"\u001b[39;49m\u001b[38;5;124;43mDiscus\u001b[39;49m\u001b[38;5;124;43m\"\u001b[39;49m\u001b[43m:\u001b[49m\u001b[43m \u001b[49m\u001b[43mDiscus\u001b[49m\u001b[43m(\u001b[49m\u001b[43mproblem_size\u001b[49m\u001b[43m)\u001b[49m\u001b[43m,\u001b[49m\n\u001b[0;32m     21\u001b[0m \u001b[43m            \u001b[49m\u001b[38;5;124;43m\"\u001b[39;49m\u001b[38;5;124;43mExpandedShaffer\u001b[39;49m\u001b[38;5;124;43m\"\u001b[39;49m\u001b[43m:\u001b[49m\u001b[43m \u001b[49m\u001b[43mExpandedShaffer\u001b[49m\u001b[43m(\u001b[49m\u001b[43mproblem_size\u001b[49m\u001b[43m)\u001b[49m\u001b[43m,\u001b[49m\n\u001b[0;32m     22\u001b[0m \u001b[43m            \u001b[49m\u001b[38;5;124;43m\"\u001b[39;49m\u001b[38;5;124;43mSchewelWithNoise\u001b[39;49m\u001b[38;5;124;43m\"\u001b[39;49m\u001b[43m:\u001b[49m\u001b[43m \u001b[49m\u001b[43mSchewelWithNoise\u001b[49m\u001b[43m(\u001b[49m\u001b[43mproblem_size\u001b[49m\u001b[43m)\u001b[49m\u001b[43m,\u001b[49m\n\u001b[0;32m     23\u001b[0m \u001b[43m            \u001b[49m\u001b[38;5;124;43m\"\u001b[39;49m\u001b[38;5;124;43mRosenbrockShifted\u001b[39;49m\u001b[38;5;124;43m\"\u001b[39;49m\u001b[43m:\u001b[49m\u001b[43m \u001b[49m\u001b[43mRosenbrockShifted\u001b[49m\u001b[43m(\u001b[49m\u001b[43mproblem_size\u001b[49m\u001b[43m)\u001b[49m\u001b[43m,\u001b[49m\n\u001b[0;32m     24\u001b[0m \u001b[43m            \u001b[49m\u001b[38;5;124;43m\"\u001b[39;49m\u001b[38;5;124;43mSphere\u001b[39;49m\u001b[38;5;124;43m\"\u001b[39;49m\u001b[43m:\u001b[49m\u001b[43m \u001b[49m\u001b[43mSphere\u001b[49m\u001b[43m(\u001b[49m\u001b[43mproblem_size\u001b[49m\u001b[43m)\u001b[49m\u001b[43m}\u001b[49m\u001b[43m[\u001b[49m\u001b[43mproblem_name\u001b[49m\u001b[43m]\u001b[49m\n",
      "\u001b[1;31mKeyError\u001b[0m: '   '"
     ]
    }
   ],
   "source": [
    "import json\n",
    "import logging\n",
    "import os\n",
    "\n",
    "from runners.bulilders.statistic_builder import StatisticRunnerBuilder\n",
    "from settings.settings import Settings\n",
    "from trust.base_trust import GlobalTrust\n",
    "\n",
    "Statistic_runner_list = []\n",
    "prefix = os.path.join(\"run_configs\", \"problem\")\n",
    "\n",
    "for idx, problem in enumerate([\"EnergyCluster\"]):\n",
    "    problem_size =100\n",
    "    statisticRunnerBuilder = StatisticRunnerBuilder()\n",
    "    for config_name in [\"config_1.json\"]:\n",
    "\n",
    "        with open(os.path.join(prefix, config_name), \"r\") as f:\n",
    "            settings = json.load(f)\n",
    "            settings[\"problem\"] = problem\n",
    "            settings[\"problem_size\"] = problem_size\n",
    "            settings = Settings(settings)\n",
    "        logging.basicConfig(level=logging.INFO)  \n",
    "\n",
    "        config = settings.decodeAgentsData()\n",
    "        config.trust_type.initialize()\n",
    "        iterations = 200000\n",
    "        logging.info(str(config))\n",
    "        statisticRunnerBuilder.set_agents_different_probability(config, 2,  f\"{problem}: {problem_size}, {config_name}\")  \n",
    "        statisticRunnerBuilder.set_run_config(no_runs=2\n",
    "                                            , communication_num=1, iterations=iterations,\n",
    "                                                communication_freq=25)\n",
    "    Statistic_runner_list.append(statisticRunnerBuilder.build())\n",
    "for statistic in Statistic_runner_list:\n",
    "    statistic.run_an_collect_data()\n",
    "    statistic.save_progres()\n",
    "\n"
   ]
  }
 ],
 "metadata": {
  "kernelspec": {
   "display_name": "Python 3",
   "language": "python",
   "name": "python3"
  },
  "language_info": {
   "codemirror_mode": {
    "name": "ipython",
    "version": 3
   },
   "file_extension": ".py",
   "mimetype": "text/x-python",
   "name": "python",
   "nbconvert_exporter": "python",
   "pygments_lexer": "ipython3",
   "version": "3.11.0"
  },
  "orig_nbformat": 4,
  "vscode": {
   "interpreter": {
    "hash": "d1edc6cd34ac93473680250074b6a6c76ca03c02df31c3c0caa07c58bc5e9096"
   }
  }
 },
 "nbformat": 4,
 "nbformat_minor": 2
}
