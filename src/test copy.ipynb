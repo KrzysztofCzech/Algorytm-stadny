{
 "cells": [
  {
   "cell_type": "code",
   "execution_count": 1,
   "metadata": {},
   "outputs": [],
   "source": [
    "import logging\n",
    "\n",
    "from inicialization.agents_inicialization import create_agents_float_solution\n",
    "from settings import Settings\n",
    "from runners.single import MultiAgentRunner\n",
    "from runners.statistic import StatisticRunner\n",
    "from time import time\n",
    "\n",
    "time1 =  time()\n",
    "starting_trusts = [5,10,15]\n",
    "no_Agents = [3,6,10]\n",
    "population_size = [5, 10 ,15]\n",
    "for config in [\"config_R.json\", \"config_G.json\"]:\n",
    "    with open(config,\"r\") as f:\n",
    "        settings = Settings(f)\n",
    "        # logging.basicConfig(level=settings.log_level)\n",
    "    logging.basicConfig(level=logging.INFO)\n",
    "    logging.info(settings.json_settings)\n",
    "    config = settings.decodeAgentsData()\n",
    "    iterations = config.problem.number_of_variables * 400\n",
    "    for num in no_Agents:\n",
    "        for start_trust in starting_trusts:\n",
    "            for size_pop in population_size:\n",
    "                config.noAgents = num\n",
    "                config.population_size = size_pop\n",
    "                config.offspring_population = 3*size_pop\n",
    "                Agents, Agent_Reference = create_agents_float_solution(config)     \n",
    "                Agents[0].get_trust_memory().starting_trust = start_trust\n",
    "                logging.info(f\"Agents {num}, trust {start_trust} population {size_pop}\")\n",
    "                runner = MultiAgentRunner(agents= Agents, agent_single= Agent_Reference)\n",
    "                Statistic_runner = StatisticRunner(runner)\n",
    "                Statistic_runner.run_an_collect_data(no_runs = 3, cycles=int(iterations/50/num) , cycle_iter=50, num_of_comm=1)\n",
    "                if settings.enable_plots:\n",
    "                    Statistic_runner.plot()\n",
    "\n"
   ]
  }
 ],
 "metadata": {
  "kernelspec": {
   "display_name": "Python 3.11.0 64-bit",
   "language": "python",
   "name": "python3"
  },
  "language_info": {
   "codemirror_mode": {
    "name": "ipython",
    "version": 3
   },
   "file_extension": ".py",
   "mimetype": "text/x-python",
   "name": "python",
   "nbconvert_exporter": "python",
   "pygments_lexer": "ipython3",
   "version": "3.11.0"
  },
  "orig_nbformat": 4,
  "vscode": {
   "interpreter": {
    "hash": "d1edc6cd34ac93473680250074b6a6c76ca03c02df31c3c0caa07c58bc5e9096"
   }
  }
 },
 "nbformat": 4,
 "nbformat_minor": 2
}
