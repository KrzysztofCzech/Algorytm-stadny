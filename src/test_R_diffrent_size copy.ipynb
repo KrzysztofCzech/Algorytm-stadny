{
 "cells": [
  {
   "cell_type": "code",
   "execution_count": 1,
   "metadata": {},
   "outputs": [
    {
     "name": "stderr",
     "output_type": "stream",
     "text": [
      "INFO:root:{'LOG_LEVEL': 'INFO', 'number_of_agents': 5, 'problem': 'Rastrigin', 'problem_size': 100, 'communication_type': 'mutation_many_many', 'communication_operator': 'average', 'max_time': 800, 'enable_plots': True, 'trust': {'type': 'global', 'start': 10, 'max': 30}, 'population size': 5, 'offspring size': 15, 'agent_modificaiton': None, 'base_probability': 0.0005, 'delete agents': True}\n"
     ]
    },
    {
     "ename": "TypeError",
     "evalue": "EvolutionAlgoritm.get_observable_data() missing 1 required positional argument: 'iterations'",
     "output_type": "error",
     "traceback": [
      "\u001b[1;31m---------------------------------------------------------------------------\u001b[0m",
      "\u001b[1;31mTypeError\u001b[0m                                 Traceback (most recent call last)",
      "Cell \u001b[1;32mIn[1], line 21\u001b[0m\n\u001b[0;32m     19\u001b[0m iterations \u001b[39m=\u001b[39m config\u001b[39m.\u001b[39mproblem\u001b[39m.\u001b[39mnumber_of_variables\u001b[39m*\u001b[39m\u001b[39m*\u001b[39m\u001b[39m2\u001b[39m \u001b[39m*\u001b[39m\u001b[39m20\u001b[39m\n\u001b[0;32m     20\u001b[0m statisticRunnerBuilder \u001b[39m=\u001b[39m StatisticRunnerBuilder()\n\u001b[1;32m---> 21\u001b[0m statisticRunnerBuilder\u001b[39m.\u001b[39;49mset_agents_diffrent_porbability(config,\u001b[39m3\u001b[39;49m  )\n\u001b[0;32m     22\u001b[0m statisticRunnerBuilder\u001b[39m.\u001b[39mset_run_config(no_runs\u001b[39m=\u001b[39m \u001b[39m3\u001b[39m, communication_num \u001b[39m=\u001b[39m \u001b[39m1\u001b[39m, iterations \u001b[39m=\u001b[39m iterations, communication_freq\u001b[39m=\u001b[39m  \u001b[39m10\u001b[39m)\n\u001b[0;32m     23\u001b[0m Statistic_runner_list\u001b[39m.\u001b[39mappend(statisticRunnerBuilder\u001b[39m.\u001b[39mbuild())\n",
      "File \u001b[1;32mc:\\AlgEvloucyny\\Algorytm-stadny\\src\\runners\\bulilders\\statistic_builder.py:14\u001b[0m, in \u001b[0;36mStatisticRunnerBuilder.set_agents_diffrent_porbability\u001b[1;34m(self, config, factor)\u001b[0m\n\u001b[0;32m     13\u001b[0m \u001b[39mdef\u001b[39;00m \u001b[39mset_agents_diffrent_porbability\u001b[39m(\u001b[39mself\u001b[39m, config, factor):\n\u001b[1;32m---> 14\u001b[0m     agents, reference \u001b[39m=\u001b[39m create_agents_different_probability(config, factor) \n\u001b[0;32m     15\u001b[0m     \u001b[39mself\u001b[39m\u001b[39m.\u001b[39magents \u001b[39m=\u001b[39m agents\n\u001b[0;32m     16\u001b[0m     \u001b[39mself\u001b[39m\u001b[39m.\u001b[39magent_reference \u001b[39m=\u001b[39m  reference\n",
      "File \u001b[1;32mc:\\AlgEvloucyny\\Algorytm-stadny\\src\\runners\\bulilders\\agents_inicialization.py:51\u001b[0m, in \u001b[0;36mcreate_agents_different_probability\u001b[1;34m(config, factor)\u001b[0m\n\u001b[0;32m     42\u001b[0m \u001b[39mfor\u001b[39;00m i \u001b[39min\u001b[39;00m \u001b[39mrange\u001b[39m(\u001b[39m0\u001b[39m,config\u001b[39m.\u001b[39mnoAgents):\n\u001b[0;32m     43\u001b[0m     Island1 \u001b[39m=\u001b[39m Island(algorithm\u001b[39m=\u001b[39mEvolutionAlgoritm(\n\u001b[0;32m     44\u001b[0m     problem\u001b[39m=\u001b[39mconfig\u001b[39m.\u001b[39mproblem, \n\u001b[0;32m     45\u001b[0m     population_size\u001b[39m=\u001b[39mconfig\u001b[39m.\u001b[39mpopulation_size,\n\u001b[1;32m   (...)\u001b[0m\n\u001b[0;32m     49\u001b[0m     crossover\u001b[39m=\u001b[39mSBXCrossover(probability\u001b[39m=\u001b[39m\u001b[39m0.005\u001b[39m \u001b[39m*\u001b[39m (factor \u001b[39m*\u001b[39m i \u001b[39m+\u001b[39m\u001b[39m1\u001b[39m)),\n\u001b[0;32m     50\u001b[0m     termination_criterion\u001b[39m=\u001b[39mStoppingByEvaluations(max_evaluations\u001b[39m=\u001b[39m\u001b[39m10000000\u001b[39m)))\n\u001b[1;32m---> 51\u001b[0m     Island1\u001b[39m.\u001b[39;49mstart()\n\u001b[0;32m     52\u001b[0m     Agents\u001b[39m.\u001b[39mappend(Agent(Island1, name\u001b[39m=\u001b[39m \u001b[39mf\u001b[39m\u001b[39m\"\u001b[39m\u001b[39mAgent\u001b[39m\u001b[39m{\u001b[39;00mi\u001b[39m}\u001b[39;00m\u001b[39m\"\u001b[39m, attidute\u001b[39m=\u001b[39m AttiduteType( \u001b[39m2\u001b[39m), communication_type\u001b[39m=\u001b[39mconfig\u001b[39m.\u001b[39mcommuincationType, trust_type\u001b[39m=\u001b[39mconfig\u001b[39m.\u001b[39mtrust_type))\n\u001b[0;32m     54\u001b[0m i \u001b[39m=\u001b[39m config\u001b[39m.\u001b[39mnoAgents\u001b[39m/\u001b[39m\u001b[39m/\u001b[39m\u001b[39m2\u001b[39m\n",
      "File \u001b[1;32mc:\\AlgEvloucyny\\Algorytm-stadny\\src\\agent\\island.py:36\u001b[0m, in \u001b[0;36mIsland.start\u001b[1;34m(self, seed)\u001b[0m\n\u001b[0;32m     34\u001b[0m     random\u001b[39m.\u001b[39mseed(seed)\n\u001b[0;32m     35\u001b[0m \u001b[39mself\u001b[39m\u001b[39m.\u001b[39malgorithm\u001b[39m.\u001b[39msolutions \u001b[39m=\u001b[39m \u001b[39mself\u001b[39m\u001b[39m.\u001b[39malgorithm\u001b[39m.\u001b[39mevaluate(\u001b[39mself\u001b[39m\u001b[39m.\u001b[39malgorithm\u001b[39m.\u001b[39mcreate_initial_solutions())\n\u001b[1;32m---> 36\u001b[0m \u001b[39mself\u001b[39;49m\u001b[39m.\u001b[39;49malgorithm\u001b[39m.\u001b[39;49minit_progress()\n\u001b[0;32m     38\u001b[0m \u001b[39mself\u001b[39m\u001b[39m.\u001b[39mhistory_population \u001b[39m=\u001b[39m []\n\u001b[0;32m     39\u001b[0m \u001b[39mself\u001b[39m\u001b[39m.\u001b[39mhistory_solution \u001b[39m=\u001b[39m []\n",
      "File \u001b[1;32mc:\\Users\\kczec\\AppData\\Local\\Programs\\Python\\Python311\\Lib\\site-packages\\jmetal\\core\\algorithm.py:140\u001b[0m, in \u001b[0;36mEvolutionaryAlgorithm.init_progress\u001b[1;34m(self)\u001b[0m\n\u001b[0;32m    137\u001b[0m \u001b[39mdef\u001b[39;00m \u001b[39minit_progress\u001b[39m(\u001b[39mself\u001b[39m) \u001b[39m-\u001b[39m\u001b[39m>\u001b[39m \u001b[39mNone\u001b[39;00m:\n\u001b[0;32m    138\u001b[0m     \u001b[39mself\u001b[39m\u001b[39m.\u001b[39mevaluations \u001b[39m=\u001b[39m \u001b[39mself\u001b[39m\u001b[39m.\u001b[39mpopulation_size\n\u001b[1;32m--> 140\u001b[0m     observable_data \u001b[39m=\u001b[39m \u001b[39mself\u001b[39;49m\u001b[39m.\u001b[39;49mget_observable_data()\n\u001b[0;32m    141\u001b[0m     \u001b[39mself\u001b[39m\u001b[39m.\u001b[39mobservable\u001b[39m.\u001b[39mnotify_all(\u001b[39m*\u001b[39m\u001b[39m*\u001b[39mobservable_data)\n",
      "\u001b[1;31mTypeError\u001b[0m: EvolutionAlgoritm.get_observable_data() missing 1 required positional argument: 'iterations'"
     ]
    }
   ],
   "source": [
    "import logging\n",
    "from settings.settings import Settings\n",
    "from time import time\n",
    "from runners.bulilders.statistic_builder import StatisticRunnerBuilder\n",
    "import os\n",
    "Statistic_runner_list = []\n",
    "prefix = os.path.join(\"run_configs\", \"problem\")\n",
    "for agent_no in [20]:\n",
    "    for idx, config in enumerate([\"config_R.json\"]):\n",
    "        with open(os.path.join(prefix,config),\"r\") as f:\n",
    "            settings = Settings(f)\n",
    "            # logging.basicConfig(level=settings.log_level)\n",
    "        logging.basicConfig(level=logging.INFO)\n",
    "        config = settings.decodeAgentsData()\n",
    "        config.noAgents = agent_no\n",
    "        logging.info(settings.json_settings)\n",
    "        from jmetal.problem.singleobjective.unconstrained import Rastrigin\n",
    "        config.problem = Rastrigin(230)\n",
    "        iterations = config.problem.number_of_variables**2 *20\n",
    "        statisticRunnerBuilder = StatisticRunnerBuilder()\n",
    "        statisticRunnerBuilder.set_agents_diffrent_porbability(config,3  )\n",
    "        statisticRunnerBuilder.set_run_config(no_runs= 3, communication_num = 1, iterations = iterations, communication_freq=  10)\n",
    "        Statistic_runner_list.append(statisticRunnerBuilder.build())\n",
    "for statistic in Statistic_runner_list:\n",
    "    statistic.run_an_collect_data()\n",
    "    if settings.enable_plots:\n",
    "        statistic.plot()"
   ]
  }
 ],
 "metadata": {
  "kernelspec": {
   "display_name": "Python 3",
   "language": "python",
   "name": "python3"
  },
  "language_info": {
   "codemirror_mode": {
    "name": "ipython",
    "version": 3
   },
   "file_extension": ".py",
   "mimetype": "text/x-python",
   "name": "python",
   "nbconvert_exporter": "python",
   "pygments_lexer": "ipython3",
   "version": "3.11.1"
  },
  "orig_nbformat": 4,
  "vscode": {
   "interpreter": {
    "hash": "d1edc6cd34ac93473680250074b6a6c76ca03c02df31c3c0caa07c58bc5e9096"
   }
  }
 },
 "nbformat": 4,
 "nbformat_minor": 2
}
