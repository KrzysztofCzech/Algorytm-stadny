{
 "cells": [
  {
   "cell_type": "code",
   "execution_count": 1,
   "metadata": {},
   "outputs": [],
   "source": [
    "from Evolutionary_algorithm import EvolutionAlgoritm\n",
    "from jmetal.operator import SBXCrossover, PolynomialMutation, BinaryTournamentSelection\n",
    "from jmetal.problem.singleobjective.unconstrained import Rastrigin, Sphere\n",
    "from jmetal.util.termination_criterion import StoppingByEvaluations\n",
    "from Island import Island\n",
    "from Agent import Agent\n",
    "from Executor import MultiAgentRunner\n",
    "from communication import AttiduteType\n",
    "from StatisticRunner import StatisticRunner\n",
    "from communication import CommuncationWithMutation\n",
    "from communication_operators import average_operator, swap_operator\n",
    "import inicialization as init\n",
    "\n",
    "problem = Rastrigin(number_of_variables = 100)\n",
    "Agents, Agent_Reference = init.create_agents_float_solution(10, problem, CommuncationWithMutation(operator=swap_operator))\n",
    "\n",
    "runner = MultiAgentRunner(agents= Agents, agent_single= Agent_Reference)\n",
    "\n",
    "Statistic_runner = StatisticRunner(runner)\n",
    "\n",
    "\n",
    "Statistic_runner.run_an_collect_data(no_runs = 15, cycles=150, cycle_iter=40, num_of_comm=6)\n",
    "Statistic_runner.plot()\n",
    "\n"
   ]
  },
  {
   "cell_type": "code",
   "execution_count": null,
   "metadata": {},
   "outputs": [],
   "source": [
    "problem = Rastrigin(number_of_variables = 400)\n",
    "\n",
    "Agents, Agent_Reference = init.create_agents_float_solution(10, problem, CommuncationWithMutation(operator=swap_operator))\n",
    "\n",
    "runner = MultiAgentRunner(agents= Agents, agent_single= Agent_Reference)\n",
    "\n",
    "Statistic_runner = StatisticRunner(runner)\n",
    "\n",
    "\n",
    "Statistic_runner.run_an_collect_data(no_runs = 10, cycles=170, cycle_iter=50, num_of_comm=5)\n",
    "Statistic_runner.plot()\n"
   ]
  }
 ],
 "metadata": {
  "interpreter": {
   "hash": "69449481974f8df4f5538ce6816fa4c67161008dd9bac3e22799c0f9086ff0ba"
  },
  "kernelspec": {
   "display_name": "Python 3.10.4 ('venv': venv)",
   "language": "python",
   "name": "python3"
  },
  "language_info": {
   "codemirror_mode": {
    "name": "ipython",
    "version": 3
   },
   "file_extension": ".py",
   "mimetype": "text/x-python",
   "name": "python",
   "nbconvert_exporter": "python",
   "pygments_lexer": "ipython3",
   "version": "3.10.5"
  },
  "orig_nbformat": 4
 },
 "nbformat": 4,
 "nbformat_minor": 2
}
